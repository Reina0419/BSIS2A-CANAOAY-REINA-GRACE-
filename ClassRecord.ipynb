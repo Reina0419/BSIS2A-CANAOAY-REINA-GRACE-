{
  "nbformat": 4,
  "nbformat_minor": 0,
  "metadata": {
    "colab": {
      "provenance": [],
      "authorship_tag": "ABX9TyMr3j3aCO9jczVJV+53PwNy",
      "include_colab_link": true
    },
    "kernelspec": {
      "name": "python3",
      "display_name": "Python 3"
    },
    "language_info": {
      "name": "python"
    }
  },
  "cells": [
    {
      "cell_type": "markdown",
      "metadata": {
        "id": "view-in-github",
        "colab_type": "text"
      },
      "source": [
        "<a href=\"https://colab.research.google.com/github/Reina0419/BSIS2A-CANAOAY-REINA-GRACE-/blob/main/ClassRecord.ipynb\" target=\"_parent\"><img src=\"https://colab.research.google.com/assets/colab-badge.svg\" alt=\"Open In Colab\"/></a>"
      ]
    },
    {
      "cell_type": "code",
      "source": [
        "import pandas as pd"
      ],
      "metadata": {
        "id": "rFV4iLsXl0ke"
      },
      "execution_count": 87,
      "outputs": []
    },
    {
      "cell_type": "code",
      "source": [
        "df = pd.read_csv('https://raw.githubusercontent.com/Reina0419/BSIS2A-CANAOAY-REINA-GRACE-/refs/heads/main/class_record.csv')"
      ],
      "metadata": {
        "id": "HzbmUSvID3VG"
      },
      "execution_count": 88,
      "outputs": []
    },
    {
      "cell_type": "code",
      "source": [
        "print(\"Original row count\",len(df))"
      ],
      "metadata": {
        "colab": {
          "base_uri": "https://localhost:8080/"
        },
        "outputId": "4cd4165a-d197-42fa-e4d3-b9328775c128",
        "id": "SOmSxaN6E2Ix"
      },
      "execution_count": 89,
      "outputs": [
        {
          "output_type": "stream",
          "name": "stdout",
          "text": [
            "Original row count 62\n"
          ]
        }
      ]
    },
    {
      "cell_type": "code",
      "source": [
        "df.info()"
      ],
      "metadata": {
        "colab": {
          "base_uri": "https://localhost:8080/"
        },
        "id": "jsrzcso2cPhj",
        "outputId": "5aa9e4c6-1ff9-4e94-e6b6-c05f0b076703"
      },
      "execution_count": 90,
      "outputs": [
        {
          "output_type": "stream",
          "name": "stdout",
          "text": [
            "<class 'pandas.core.frame.DataFrame'>\n",
            "RangeIndex: 62 entries, 0 to 61\n",
            "Data columns (total 5 columns):\n",
            " #   Column     Non-Null Count  Dtype \n",
            "---  ------     --------------  ----- \n",
            " 0   StudentID  62 non-null     object\n",
            " 1   Name       62 non-null     object\n",
            " 2   Course     56 non-null     object\n",
            " 3   YearLevel  62 non-null     object\n",
            " 4   GPA        60 non-null     object\n",
            "dtypes: object(5)\n",
            "memory usage: 2.6+ KB\n"
          ]
        }
      ]
    },
    {
      "cell_type": "code",
      "source": [
        "print(df)"
      ],
      "metadata": {
        "colab": {
          "base_uri": "https://localhost:8080/"
        },
        "id": "fct8-1Khbo4N",
        "outputId": "c01d1803-6b49-4115-bdc8-04efba3e892d"
      },
      "execution_count": 91,
      "outputs": [
        {
          "output_type": "stream",
          "name": "stdout",
          "text": [
            "   StudentID        Name Course YearLevel   GPA\n",
            "0    STUD001   Student_1   BSED  2nd Year   NaN\n",
            "1    STUD002   Student_2    BSN  3rd Year  3.68\n",
            "2    STUD003   Student_3    BSN  4th Year  3.88\n",
            "3    STUD004   Student_4   BSBA  1st Year  1.38\n",
            "4    STUD005   Student_5    BSN  2nd Year  3.85\n",
            "..       ...         ...    ...       ...   ...\n",
            "57   STUD058  Student_58   BSIT  3rd Year  1.43\n",
            "58   STUD059  Student_59   BSBA  2nd Year  1.57\n",
            "59   STUD060  Student_60   BSED  3rd Year  3.94\n",
            "60   STUD061  Student_61   BSCS  3rd Year  1.26\n",
            "61   STUD062  Student_62    NaN  4th Year  2.13\n",
            "\n",
            "[62 rows x 5 columns]\n"
          ]
        }
      ]
    },
    {
      "cell_type": "code",
      "source": [
        "print(df[df.isnull().any(axis=1)])"
      ],
      "metadata": {
        "colab": {
          "base_uri": "https://localhost:8080/"
        },
        "id": "6Mfn6jXVxnA6",
        "outputId": "52e05bfb-47e0-46e0-c814-48f068d0123d"
      },
      "execution_count": 92,
      "outputs": [
        {
          "output_type": "stream",
          "name": "stdout",
          "text": [
            "   StudentID        Name Course YearLevel   GPA\n",
            "0    STUD001   Student_1   BSED  2nd Year   NaN\n",
            "31   STUD032  Student_32    NaN  2nd Year   NaN\n",
            "41   STUD042  Student_42    NaN  3rd Year  1.65\n",
            "47   STUD048  Student_48    NaN  4th Year  3.56\n",
            "50   STUD051  Student_51    NaN  2nd Year  3.89\n",
            "51   STUD052  Student_52    NaN  2nd Year  3.21\n",
            "61   STUD062  Student_62    NaN  4th Year  2.13\n"
          ]
        }
      ]
    },
    {
      "cell_type": "code",
      "source": [
        "print(df.isnull().sum())"
      ],
      "metadata": {
        "colab": {
          "base_uri": "https://localhost:8080/"
        },
        "id": "Q81oXOAz8JQT",
        "outputId": "03bbd1a9-afa0-4595-8c8f-8d3b537c69eb"
      },
      "execution_count": 93,
      "outputs": [
        {
          "output_type": "stream",
          "name": "stdout",
          "text": [
            "StudentID    0\n",
            "Name         0\n",
            "Course       6\n",
            "YearLevel    0\n",
            "GPA          2\n",
            "dtype: int64\n"
          ]
        }
      ]
    },
    {
      "cell_type": "code",
      "source": [
        "df.fillna(0, inplace=True)"
      ],
      "metadata": {
        "id": "iLR7UYadcBIj"
      },
      "execution_count": 95,
      "outputs": []
    },
    {
      "cell_type": "code",
      "source": [
        "print(df)"
      ],
      "metadata": {
        "colab": {
          "base_uri": "https://localhost:8080/"
        },
        "id": "y84sGFM2c5fv",
        "outputId": "e46a877d-7d57-4216-ff01-c392f95df2cd"
      },
      "execution_count": 96,
      "outputs": [
        {
          "output_type": "stream",
          "name": "stdout",
          "text": [
            "   StudentID        Name Course YearLevel   GPA\n",
            "0    STUD001   Student_1   BSED  2nd Year     0\n",
            "1    STUD002   Student_2    BSN  3rd Year  3.68\n",
            "2    STUD003   Student_3    BSN  4th Year  3.88\n",
            "3    STUD004   Student_4   BSBA  1st Year  1.38\n",
            "4    STUD005   Student_5    BSN  2nd Year  3.85\n",
            "..       ...         ...    ...       ...   ...\n",
            "57   STUD058  Student_58   BSIT  3rd Year  1.43\n",
            "58   STUD059  Student_59   BSBA  2nd Year  1.57\n",
            "59   STUD060  Student_60   BSED  3rd Year  3.94\n",
            "60   STUD061  Student_61   BSCS  3rd Year  1.26\n",
            "61   STUD062  Student_62      0  4th Year  2.13\n",
            "\n",
            "[62 rows x 5 columns]\n"
          ]
        }
      ]
    },
    {
      "cell_type": "code",
      "source": [
        "df_drop_rows = df.dropna()"
      ],
      "metadata": {
        "id": "911zZvcZ8XJp"
      },
      "execution_count": 100,
      "outputs": []
    },
    {
      "cell_type": "code",
      "source": [
        "print(\"Rows after dropping rows with missing values:\", len(df_drop_rows))\n",
        "print(\"\\n\")"
      ],
      "metadata": {
        "colab": {
          "base_uri": "https://localhost:8080/"
        },
        "id": "Xo2LR2X48dLK",
        "outputId": "427f956e-4677-4b04-b128-4d51ddfecaa3"
      },
      "execution_count": 101,
      "outputs": [
        {
          "output_type": "stream",
          "name": "stdout",
          "text": [
            "Rows after dropping rows with missing values: 62\n",
            "\n",
            "\n"
          ]
        }
      ]
    },
    {
      "cell_type": "code",
      "source": [
        "df[\"GPA\"] = pd.to_numeric(df[\"GPA\"], errors='coerce')"
      ],
      "metadata": {
        "id": "gtaYU7qY8tgT"
      },
      "execution_count": 83,
      "outputs": []
    },
    {
      "cell_type": "code",
      "source": [
        "df[\"Course\"] = df[\"Course\"].fillna(df[\"Course\"].mode()[0])"
      ],
      "metadata": {
        "id": "ey8YgTJR9GJK"
      },
      "execution_count": 102,
      "outputs": []
    },
    {
      "cell_type": "code",
      "source": [
        "print(df[df.isnull().any(axis=1)])"
      ],
      "metadata": {
        "colab": {
          "base_uri": "https://localhost:8080/"
        },
        "id": "UwkZlfCb9Mt-",
        "outputId": "08224d03-4c3c-4953-813f-50f67b125a52"
      },
      "execution_count": 103,
      "outputs": [
        {
          "output_type": "stream",
          "name": "stdout",
          "text": [
            "Empty DataFrame\n",
            "Columns: [StudentID, Name, Course, YearLevel, GPA]\n",
            "Index: []\n"
          ]
        }
      ]
    },
    {
      "cell_type": "code",
      "source": [
        "print(df)"
      ],
      "metadata": {
        "colab": {
          "base_uri": "https://localhost:8080/"
        },
        "id": "-Y72rc8w9Sxg",
        "outputId": "41e0badf-8e4d-48ed-dcb9-b94df3ba52a6"
      },
      "execution_count": 104,
      "outputs": [
        {
          "output_type": "stream",
          "name": "stdout",
          "text": [
            "   StudentID        Name Course YearLevel   GPA\n",
            "0    STUD001   Student_1   BSED  2nd Year     0\n",
            "1    STUD002   Student_2    BSN  3rd Year  3.68\n",
            "2    STUD003   Student_3    BSN  4th Year  3.88\n",
            "3    STUD004   Student_4   BSBA  1st Year  1.38\n",
            "4    STUD005   Student_5    BSN  2nd Year  3.85\n",
            "..       ...         ...    ...       ...   ...\n",
            "57   STUD058  Student_58   BSIT  3rd Year  1.43\n",
            "58   STUD059  Student_59   BSBA  2nd Year  1.57\n",
            "59   STUD060  Student_60   BSED  3rd Year  3.94\n",
            "60   STUD061  Student_61   BSCS  3rd Year  1.26\n",
            "61   STUD062  Student_62      0  4th Year  2.13\n",
            "\n",
            "[62 rows x 5 columns]\n"
          ]
        }
      ]
    },
    {
      "cell_type": "code",
      "source": [
        "print(df.isnull().sum())"
      ],
      "metadata": {
        "colab": {
          "base_uri": "https://localhost:8080/"
        },
        "id": "Y0MF5R0icfT0",
        "outputId": "6077f889-1957-4c91-c494-c4d36189f094"
      },
      "execution_count": 105,
      "outputs": [
        {
          "output_type": "stream",
          "name": "stdout",
          "text": [
            "StudentID    0\n",
            "Name         0\n",
            "Course       0\n",
            "YearLevel    0\n",
            "GPA          0\n",
            "dtype: int64\n"
          ]
        }
      ]
    },
    {
      "cell_type": "code",
      "source": [
        "print(df[df.isnull().any(axis=1)])"
      ],
      "metadata": {
        "colab": {
          "base_uri": "https://localhost:8080/"
        },
        "id": "dtszD6nteIcM",
        "outputId": "f2ff26d2-395b-495a-ff2b-d39dee796d8b"
      },
      "execution_count": 106,
      "outputs": [
        {
          "output_type": "stream",
          "name": "stdout",
          "text": [
            "Empty DataFrame\n",
            "Columns: [StudentID, Name, Course, YearLevel, GPA]\n",
            "Index: []\n"
          ]
        }
      ]
    }
  ]
}