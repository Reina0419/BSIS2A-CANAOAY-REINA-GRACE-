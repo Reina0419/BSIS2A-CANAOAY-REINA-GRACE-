{
  "nbformat": 4,
  "nbformat_minor": 0,
  "metadata": {
    "colab": {
      "provenance": [],
      "authorship_tag": "ABX9TyPvWC+d7xa1Pxd7Qrl+p9C+",
      "include_colab_link": true
    },
    "kernelspec": {
      "name": "python3",
      "display_name": "Python 3"
    },
    "language_info": {
      "name": "python"
    }
  },
  "cells": [
    {
      "cell_type": "markdown",
      "metadata": {
        "id": "view-in-github",
        "colab_type": "text"
      },
      "source": [
        "<a href=\"https://colab.research.google.com/github/Reina0419/BSIS2A-CANAOAY-REINA-GRACE-/blob/main/ClassRecord.ipynb\" target=\"_parent\"><img src=\"https://colab.research.google.com/assets/colab-badge.svg\" alt=\"Open In Colab\"/></a>"
      ]
    },
    {
      "cell_type": "code",
      "source": [
        "import pandas as pd"
      ],
      "metadata": {
        "id": "rFV4iLsXl0ke"
      },
      "execution_count": 1,
      "outputs": []
    },
    {
      "cell_type": "code",
      "source": [
        "df = pd.read_csv('https://raw.githubusercontent.com/Reina0419/BSIS2A-CANAOAY-REINA-GRACE-/refs/heads/main/class_record.csv')"
      ],
      "metadata": {
        "id": "HzbmUSvID3VG"
      },
      "execution_count": 2,
      "outputs": []
    },
    {
      "cell_type": "code",
      "source": [
        "print(\"Original row count\",len(df))"
      ],
      "metadata": {
        "colab": {
          "base_uri": "https://localhost:8080/"
        },
        "outputId": "d1ec3baa-9b82-4d51-d657-4b90d6e6bfc3",
        "id": "SOmSxaN6E2Ix"
      },
      "execution_count": 3,
      "outputs": [
        {
          "output_type": "stream",
          "name": "stdout",
          "text": [
            "Original row count 62\n"
          ]
        }
      ]
    },
    {
      "cell_type": "code",
      "source": [
        "print(df[df.isnull().any(axis=1)])\n"
      ],
      "metadata": {
        "colab": {
          "base_uri": "https://localhost:8080/"
        },
        "id": "6Mfn6jXVxnA6",
        "outputId": "3456d526-d7a5-4345-cdaa-0888348abe77"
      },
      "execution_count": 4,
      "outputs": [
        {
          "output_type": "stream",
          "name": "stdout",
          "text": [
            "   StudentID        Name Course YearLevel   GPA\n",
            "0    STUD001   Student_1   BSED  2nd Year   NaN\n",
            "31   STUD032  Student_32    NaN  2nd Year   NaN\n",
            "41   STUD042  Student_42    NaN  3rd Year  1.65\n",
            "47   STUD048  Student_48    NaN  4th Year  3.56\n",
            "50   STUD051  Student_51    NaN  2nd Year  3.89\n",
            "51   STUD052  Student_52    NaN  2nd Year  3.21\n",
            "61   STUD062  Student_62    NaN  4th Year  2.13\n"
          ]
        }
      ]
    },
    {
      "cell_type": "code",
      "source": [
        "print(df.isnull().sum())"
      ],
      "metadata": {
        "colab": {
          "base_uri": "https://localhost:8080/"
        },
        "id": "Q81oXOAz8JQT",
        "outputId": "d53b4c22-11b2-42a4-9639-9fa697516a92"
      },
      "execution_count": 5,
      "outputs": [
        {
          "output_type": "stream",
          "name": "stdout",
          "text": [
            "StudentID    0\n",
            "Name         0\n",
            "Course       6\n",
            "YearLevel    0\n",
            "GPA          2\n",
            "dtype: int64\n"
          ]
        }
      ]
    },
    {
      "cell_type": "code",
      "source": [
        "df_drop_rows = df.dropna()"
      ],
      "metadata": {
        "id": "911zZvcZ8XJp"
      },
      "execution_count": 6,
      "outputs": []
    },
    {
      "cell_type": "code",
      "source": [
        "print(\"Rows after dropping rows with missing values:\", len(df_drop_rows))\n",
        "print(\"\\n\")"
      ],
      "metadata": {
        "colab": {
          "base_uri": "https://localhost:8080/"
        },
        "id": "Xo2LR2X48dLK",
        "outputId": "7c91e4d0-ab46-4e91-a7b4-2cb114088d73"
      },
      "execution_count": 7,
      "outputs": [
        {
          "output_type": "stream",
          "name": "stdout",
          "text": [
            "Rows after dropping rows with missing values: 55\n",
            "\n",
            "\n"
          ]
        }
      ]
    },
    {
      "cell_type": "code",
      "source": [
        "df[\"GPA\"] = pd.to_numeric(df[\"GPA\"], errors='coerce')"
      ],
      "metadata": {
        "id": "gtaYU7qY8tgT"
      },
      "execution_count": 8,
      "outputs": []
    },
    {
      "cell_type": "code",
      "source": [
        "df[\"GPA\"] = df[\"GPA\"].fillna(df[\"GPA\"].mean())"
      ],
      "metadata": {
        "id": "P0m4oDZV9DuT"
      },
      "execution_count": 9,
      "outputs": []
    },
    {
      "cell_type": "code",
      "source": [
        "df[\"Course\"] = df[\"Course\"].fillna(df[\"Course\"].mode()[0])"
      ],
      "metadata": {
        "id": "ey8YgTJR9GJK"
      },
      "execution_count": 12,
      "outputs": []
    },
    {
      "cell_type": "code",
      "source": [
        "print(df[df.isnull().any(axis=1)])"
      ],
      "metadata": {
        "colab": {
          "base_uri": "https://localhost:8080/"
        },
        "id": "UwkZlfCb9Mt-",
        "outputId": "92d6eb70-bb89-4f82-c72d-1ef56b6f8fa9"
      },
      "execution_count": 13,
      "outputs": [
        {
          "output_type": "stream",
          "name": "stdout",
          "text": [
            "Empty DataFrame\n",
            "Columns: [StudentID, Name, Course, YearLevel, GPA]\n",
            "Index: []\n"
          ]
        }
      ]
    },
    {
      "cell_type": "code",
      "source": [
        "print(df)"
      ],
      "metadata": {
        "colab": {
          "base_uri": "https://localhost:8080/"
        },
        "id": "-Y72rc8w9Sxg",
        "outputId": "c424a43d-1477-4c3b-b8e4-c4ded3d8d96a"
      },
      "execution_count": 14,
      "outputs": [
        {
          "output_type": "stream",
          "name": "stdout",
          "text": [
            "   StudentID        Name Course YearLevel       GPA\n",
            "0    STUD001   Student_1   BSED  2nd Year  2.458644\n",
            "1    STUD002   Student_2    BSN  3rd Year  3.680000\n",
            "2    STUD003   Student_3    BSN  4th Year  3.880000\n",
            "3    STUD004   Student_4   BSBA  1st Year  1.380000\n",
            "4    STUD005   Student_5    BSN  2nd Year  3.850000\n",
            "..       ...         ...    ...       ...       ...\n",
            "57   STUD058  Student_58   BSIT  3rd Year  1.430000\n",
            "58   STUD059  Student_59   BSBA  2nd Year  1.570000\n",
            "59   STUD060  Student_60   BSED  3rd Year  3.940000\n",
            "60   STUD061  Student_61   BSCS  3rd Year  1.260000\n",
            "61   STUD062  Student_62   BSIT  4th Year  2.130000\n",
            "\n",
            "[62 rows x 5 columns]\n"
          ]
        }
      ]
    },
    {
      "cell_type": "code",
      "source": [
        "df.to_csv(\"class_records_cleaned.csv\", index=False)"
      ],
      "metadata": {
        "id": "N4h0lOx99YPF"
      },
      "execution_count": 15,
      "outputs": []
    }
  ]
}