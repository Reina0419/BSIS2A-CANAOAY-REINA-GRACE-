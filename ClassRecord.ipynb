{
  "nbformat": 4,
  "nbformat_minor": 0,
  "metadata": {
    "colab": {
      "provenance": [],
      "authorship_tag": "ABX9TyOvk3+gA5D7hwDe+9IFtxVd",
      "include_colab_link": true
    },
    "kernelspec": {
      "name": "python3",
      "display_name": "Python 3"
    },
    "language_info": {
      "name": "python"
    }
  },
  "cells": [
    {
      "cell_type": "markdown",
      "metadata": {
        "id": "view-in-github",
        "colab_type": "text"
      },
      "source": [
        "<a href=\"https://colab.research.google.com/github/Reina0419/BSIS2A-CANAOAY-REINA-GRACE-/blob/main/ClassRecord.ipynb\" target=\"_parent\"><img src=\"https://colab.research.google.com/assets/colab-badge.svg\" alt=\"Open In Colab\"/></a>"
      ]
    },
    {
      "cell_type": "code",
      "source": [
        "import pandas as pd"
      ],
      "metadata": {
        "id": "rFV4iLsXl0ke"
      },
      "execution_count": 75,
      "outputs": []
    },
    {
      "cell_type": "code",
      "source": [
        "df = pd.read_csv('https://raw.githubusercontent.com/Reina0419/BSIS2A-CANAOAY-REINA-GRACE-/refs/heads/main/class_record.csv')"
      ],
      "metadata": {
        "id": "HzbmUSvID3VG"
      },
      "execution_count": 76,
      "outputs": []
    },
    {
      "cell_type": "code",
      "source": [
        "print(\"Original row count\",len(df))"
      ],
      "metadata": {
        "colab": {
          "base_uri": "https://localhost:8080/"
        },
        "outputId": "8ce541b5-8bb7-48fd-862b-49095457e702",
        "id": "SOmSxaN6E2Ix"
      },
      "execution_count": 77,
      "outputs": [
        {
          "output_type": "stream",
          "name": "stdout",
          "text": [
            "Original row count 62\n"
          ]
        }
      ]
    },
    {
      "cell_type": "code",
      "source": [
        "df.info()"
      ],
      "metadata": {
        "colab": {
          "base_uri": "https://localhost:8080/"
        },
        "id": "jsrzcso2cPhj",
        "outputId": "41501022-0415-4bf3-b1ee-1e044caff8ce"
      },
      "execution_count": 78,
      "outputs": [
        {
          "output_type": "stream",
          "name": "stdout",
          "text": [
            "<class 'pandas.core.frame.DataFrame'>\n",
            "RangeIndex: 62 entries, 0 to 61\n",
            "Data columns (total 5 columns):\n",
            " #   Column     Non-Null Count  Dtype \n",
            "---  ------     --------------  ----- \n",
            " 0   StudentID  62 non-null     object\n",
            " 1   Name       62 non-null     object\n",
            " 2   Course     56 non-null     object\n",
            " 3   YearLevel  62 non-null     object\n",
            " 4   GPA        60 non-null     object\n",
            "dtypes: object(5)\n",
            "memory usage: 2.6+ KB\n"
          ]
        }
      ]
    },
    {
      "cell_type": "code",
      "source": [
        "print(df)"
      ],
      "metadata": {
        "colab": {
          "base_uri": "https://localhost:8080/"
        },
        "id": "fct8-1Khbo4N",
        "outputId": "30ab6e63-badd-4409-8f47-22d1af50670d"
      },
      "execution_count": 80,
      "outputs": [
        {
          "output_type": "stream",
          "name": "stdout",
          "text": [
            "   StudentID        Name Course YearLevel   GPA\n",
            "0    STUD001   Student_1   BSED  2nd Year   NaN\n",
            "1    STUD002   Student_2    BSN  3rd Year  3.68\n",
            "2    STUD003   Student_3    BSN  4th Year  3.88\n",
            "3    STUD004   Student_4   BSBA  1st Year  1.38\n",
            "4    STUD005   Student_5    BSN  2nd Year  3.85\n",
            "..       ...         ...    ...       ...   ...\n",
            "57   STUD058  Student_58   BSIT  3rd Year  1.43\n",
            "58   STUD059  Student_59   BSBA  2nd Year  1.57\n",
            "59   STUD060  Student_60   BSED  3rd Year  3.94\n",
            "60   STUD061  Student_61   BSCS  3rd Year  1.26\n",
            "61   STUD062  Student_62    NaN  4th Year  2.13\n",
            "\n",
            "[62 rows x 5 columns]\n"
          ]
        }
      ]
    },
    {
      "cell_type": "code",
      "source": [
        "print(df[df.isnull().any(axis=1)])"
      ],
      "metadata": {
        "colab": {
          "base_uri": "https://localhost:8080/"
        },
        "id": "6Mfn6jXVxnA6",
        "outputId": "d3e003d4-d043-48b3-bb5c-982668f898f7"
      },
      "execution_count": 81,
      "outputs": [
        {
          "output_type": "stream",
          "name": "stdout",
          "text": [
            "   StudentID        Name Course YearLevel   GPA\n",
            "0    STUD001   Student_1   BSED  2nd Year   NaN\n",
            "31   STUD032  Student_32    NaN  2nd Year   NaN\n",
            "41   STUD042  Student_42    NaN  3rd Year  1.65\n",
            "47   STUD048  Student_48    NaN  4th Year  3.56\n",
            "50   STUD051  Student_51    NaN  2nd Year  3.89\n",
            "51   STUD052  Student_52    NaN  2nd Year  3.21\n",
            "61   STUD062  Student_62    NaN  4th Year  2.13\n"
          ]
        }
      ]
    },
    {
      "cell_type": "code",
      "source": [
        "print(df.isnull().sum())"
      ],
      "metadata": {
        "colab": {
          "base_uri": "https://localhost:8080/"
        },
        "id": "Q81oXOAz8JQT",
        "outputId": "112aa0f9-edef-4a72-e46d-7eca3cf5a0ac"
      },
      "execution_count": 82,
      "outputs": [
        {
          "output_type": "stream",
          "name": "stdout",
          "text": [
            "StudentID    0\n",
            "Name         0\n",
            "Course       6\n",
            "YearLevel    0\n",
            "GPA          2\n",
            "dtype: int64\n"
          ]
        }
      ]
    },
    {
      "cell_type": "code",
      "source": [
        "df.fillna(0, inplace=True)"
      ],
      "metadata": {
        "id": "iLR7UYadcBIj"
      },
      "execution_count": 90,
      "outputs": []
    },
    {
      "cell_type": "code",
      "source": [
        "df[\"Course\"] = df[\"Course\"].fillna(df[\"Course\"].mode()[0])"
      ],
      "metadata": {
        "id": "deeWEN88gygb"
      },
      "execution_count": 85,
      "outputs": []
    },
    {
      "cell_type": "code",
      "source": [
        "df[\"GPA\"] = pd.to_numeric(df[\"GPA\"], errors='coerce')"
      ],
      "metadata": {
        "id": "ukEFpkNtg0XQ"
      },
      "execution_count": 86,
      "outputs": []
    },
    {
      "cell_type": "code",
      "source": [
        "print(df)"
      ],
      "metadata": {
        "colab": {
          "base_uri": "https://localhost:8080/"
        },
        "id": "y84sGFM2c5fv",
        "outputId": "4d20bd6f-a9aa-4557-b3c7-cd1faf72bfba"
      },
      "execution_count": 87,
      "outputs": [
        {
          "output_type": "stream",
          "name": "stdout",
          "text": [
            "   StudentID        Name Course YearLevel   GPA\n",
            "0    STUD001   Student_1   BSED  2nd Year  0.00\n",
            "1    STUD002   Student_2    BSN  3rd Year  3.68\n",
            "2    STUD003   Student_3    BSN  4th Year  3.88\n",
            "3    STUD004   Student_4   BSBA  1st Year  1.38\n",
            "4    STUD005   Student_5    BSN  2nd Year  3.85\n",
            "..       ...         ...    ...       ...   ...\n",
            "57   STUD058  Student_58   BSIT  3rd Year  1.43\n",
            "58   STUD059  Student_59   BSBA  2nd Year  1.57\n",
            "59   STUD060  Student_60   BSED  3rd Year  3.94\n",
            "60   STUD061  Student_61   BSCS  3rd Year  1.26\n",
            "61   STUD062  Student_62      0  4th Year  2.13\n",
            "\n",
            "[62 rows x 5 columns]\n"
          ]
        }
      ]
    },
    {
      "cell_type": "code",
      "source": [
        "df_drop_rows = df.dropna()"
      ],
      "metadata": {
        "id": "911zZvcZ8XJp"
      },
      "execution_count": 88,
      "outputs": []
    },
    {
      "cell_type": "code",
      "source": [
        "print(df[df.isnull().any(axis=1)])"
      ],
      "metadata": {
        "colab": {
          "base_uri": "https://localhost:8080/"
        },
        "id": "UwkZlfCb9Mt-",
        "outputId": "1cfaa72d-d7b4-428f-8bc1-bfe8c2eef10e"
      },
      "execution_count": 91,
      "outputs": [
        {
          "output_type": "stream",
          "name": "stdout",
          "text": [
            "Empty DataFrame\n",
            "Columns: [StudentID, Name, Course, YearLevel, GPA]\n",
            "Index: []\n"
          ]
        }
      ]
    },
    {
      "cell_type": "code",
      "source": [
        "print(df)"
      ],
      "metadata": {
        "colab": {
          "base_uri": "https://localhost:8080/"
        },
        "id": "-Y72rc8w9Sxg",
        "outputId": "ba1cb3cb-80ff-43b3-d26e-c8c776cbae41"
      },
      "execution_count": 92,
      "outputs": [
        {
          "output_type": "stream",
          "name": "stdout",
          "text": [
            "   StudentID        Name Course YearLevel   GPA\n",
            "0    STUD001   Student_1   BSED  2nd Year  0.00\n",
            "1    STUD002   Student_2    BSN  3rd Year  3.68\n",
            "2    STUD003   Student_3    BSN  4th Year  3.88\n",
            "3    STUD004   Student_4   BSBA  1st Year  1.38\n",
            "4    STUD005   Student_5    BSN  2nd Year  3.85\n",
            "..       ...         ...    ...       ...   ...\n",
            "57   STUD058  Student_58   BSIT  3rd Year  1.43\n",
            "58   STUD059  Student_59   BSBA  2nd Year  1.57\n",
            "59   STUD060  Student_60   BSED  3rd Year  3.94\n",
            "60   STUD061  Student_61   BSCS  3rd Year  1.26\n",
            "61   STUD062  Student_62      0  4th Year  2.13\n",
            "\n",
            "[62 rows x 5 columns]\n"
          ]
        }
      ]
    },
    {
      "cell_type": "code",
      "source": [
        "print(df.isnull().sum())"
      ],
      "metadata": {
        "colab": {
          "base_uri": "https://localhost:8080/"
        },
        "id": "Y0MF5R0icfT0",
        "outputId": "42491cba-315b-4f20-a5ce-58ee62f7f1ce"
      },
      "execution_count": 93,
      "outputs": [
        {
          "output_type": "stream",
          "name": "stdout",
          "text": [
            "StudentID    0\n",
            "Name         0\n",
            "Course       0\n",
            "YearLevel    0\n",
            "GPA          0\n",
            "dtype: int64\n"
          ]
        }
      ]
    },
    {
      "cell_type": "code",
      "source": [
        "print(df[df.isnull().any(axis=1)])"
      ],
      "metadata": {
        "colab": {
          "base_uri": "https://localhost:8080/"
        },
        "id": "dtszD6nteIcM",
        "outputId": "bffd05d8-058a-4b5c-88e8-e0325420246e"
      },
      "execution_count": 94,
      "outputs": [
        {
          "output_type": "stream",
          "name": "stdout",
          "text": [
            "Empty DataFrame\n",
            "Columns: [StudentID, Name, Course, YearLevel, GPA]\n",
            "Index: []\n"
          ]
        }
      ]
    }
  ]
}