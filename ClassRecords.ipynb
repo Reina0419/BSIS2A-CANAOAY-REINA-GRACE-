{
  "nbformat": 4,
  "nbformat_minor": 0,
  "metadata": {
    "colab": {
      "provenance": [],
      "authorship_tag": "ABX9TyNma9g+XC+5wYTxMQLDt/xL",
      "include_colab_link": true
    },
    "kernelspec": {
      "name": "python3",
      "display_name": "Python 3"
    },
    "language_info": {
      "name": "python"
    }
  },
  "cells": [
    {
      "cell_type": "markdown",
      "metadata": {
        "id": "view-in-github",
        "colab_type": "text"
      },
      "source": [
        "<a href=\"https://colab.research.google.com/github/Reina0419/BSIS2A-CANAOAY-REINA-GRACE-/blob/main/ClassRecords.ipynb\" target=\"_parent\"><img src=\"https://colab.research.google.com/assets/colab-badge.svg\" alt=\"Open In Colab\"/></a>"
      ]
    },
    {
      "cell_type": "code",
      "source": [
        "import pandas as pd"
      ],
      "metadata": {
        "id": "rFV4iLsXl0ke"
      },
      "execution_count": 42,
      "outputs": []
    },
    {
      "cell_type": "code",
      "source": [
        "df = pd.read_csv('https://raw.githubusercontent.com/Reina0419/BSIS2A-CANAOAY-REINA-GRACE-/refs/heads/main/class_records_may2025.csv')"
      ],
      "metadata": {
        "id": "yKHQsJ0WmDAs"
      },
      "execution_count": 43,
      "outputs": []
    },
    {
      "cell_type": "code",
      "source": [
        "print(df)"
      ],
      "metadata": {
        "colab": {
          "base_uri": "https://localhost:8080/"
        },
        "outputId": "b5e208b1-565a-4d6e-9927-e5f984b1d0ea",
        "id": "dX7zE8Y8-LaI"
      },
      "execution_count": 44,
      "outputs": [
        {
          "output_type": "stream",
          "name": "stdout",
          "text": [
            "   StudentID        Name Course YearLevel    GPA\n",
            "0    STUD001   Student_1   BSBA  1st Year    NaN\n",
            "1    STUD002   Student_2   BSBA  3rd Year   2.02\n",
            "2    STUD003   Student_3    BSN  4th Year   2.99\n",
            "3    STUD004   Student_4    BSN  2nd Year   2.83\n",
            "4    STUD005   Student_5    BSN  4th Year   2.31\n",
            "5    STUD006   Student_6   BSED  4th Year   1.97\n",
            "6    STUD007   Student_7   BSIT  1st Year   3.36\n",
            "7    STUD008   Student_8   BSED  1st Year   3.46\n",
            "8    STUD009   Student_9   BSBA  4th Year   3.99\n",
            "9    STUD010  Student_10   BSCS  1st Year   1.73\n",
            "10   STUD011  Student_11   BSBA  3rd Year   1.58\n",
            "11   STUD012  Student_12   BSBA  2nd Year   1.61\n",
            "12   STUD013  Student_13   BSBA  2nd Year   1.36\n",
            "13   STUD014  Student_14  12345  2nd Year   3.35\n",
            "14   STUD015  Student_15   BSBA  2nd Year   3.76\n",
            "15   STUD016  Student_16   BSCS  4th Year   3.81\n",
            "16   STUD017  Student_17   BSED  3rd Year  error\n",
            "17   STUD018  Student_18   BSCS  4th Year    3.8\n",
            "18   STUD019  Student_19   BSED  4th Year   1.67\n",
            "19   STUD020  Student_20   BSBA  4th Year   2.94\n",
            "20   STUD021  Student_21   BSED  2nd Year   2.38\n",
            "21   STUD022  Student_22   BSBA  2nd Year    NaN\n",
            "22   STUD023  Student_23   BSED  2nd Year   2.13\n",
            "23   STUD024  Student_24    NaN  3rd Year   3.82\n",
            "24   STUD025  Student_25    BSN  4th Year   3.83\n",
            "25   STUD026  Student_26   BSCS  3rd Year   1.55\n",
            "26   STUD027  Student_27    BSN  1st Year   2.23\n",
            "27   STUD028  Student_28    BSN  1st Year   3.97\n",
            "28   STUD029  Student_29   BSED  4th Year   3.97\n",
            "29   STUD030  Student_30   BSIT  2nd Year   2.28\n",
            "30   STUD031  Student_31   BSCS  1st Year   2.62\n",
            "31   STUD032  Student_32   BSBA  1st Year   1.44\n",
            "32   STUD033  Student_33   BSBA  2nd Year   2.71\n",
            "33   STUD034  Student_34   BSBA  4th Year    1.8\n",
            "34   STUD035  Student_35    BSN  1st Year   2.49\n",
            "35   STUD036  Student_36   BSED  1st Year   2.43\n",
            "36   STUD037  Student_37   BSBA  3rd Year    NaN\n",
            "37   STUD038  Student_38   BSIT  1st Year    2.1\n",
            "38   STUD039  Student_39   BSIT  3rd Year   3.17\n",
            "39   STUD040  Student_40    BSN  1st Year   3.27\n",
            "40   STUD041  Student_41   BSIT  2nd Year   1.98\n",
            "41   STUD042  Student_42   BSED  2nd Year    NaN\n",
            "42   STUD043  Student_43   BSBA  2nd Year   2.35\n",
            "43   STUD044  Student_44   BSCS  1st Year   3.39\n",
            "44   STUD045  Student_45   BSBA  1st Year   2.79\n",
            "45   STUD046  Student_46   BSCS  3rd Year   3.54\n",
            "46   STUD047  Student_47   BSIT  2nd Year   2.83\n",
            "47   STUD048  Student_48   BSCS  4th Year   3.88\n",
            "48   STUD049  Student_49    NaN  2nd Year   2.34\n",
            "49   STUD050  Student_50   BSCS  1st Year   3.12\n"
          ]
        }
      ]
    },
    {
      "cell_type": "code",
      "source": [
        "print(df[df.isnull().any(axis=1)])\n"
      ],
      "metadata": {
        "colab": {
          "base_uri": "https://localhost:8080/"
        },
        "id": "6Mfn6jXVxnA6",
        "outputId": "9ede1af6-0844-4cc4-eb98-04db4cc1c50b"
      },
      "execution_count": 45,
      "outputs": [
        {
          "output_type": "stream",
          "name": "stdout",
          "text": [
            "   StudentID        Name Course YearLevel   GPA\n",
            "0    STUD001   Student_1   BSBA  1st Year   NaN\n",
            "21   STUD022  Student_22   BSBA  2nd Year   NaN\n",
            "23   STUD024  Student_24    NaN  3rd Year  3.82\n",
            "36   STUD037  Student_37   BSBA  3rd Year   NaN\n",
            "41   STUD042  Student_42   BSED  2nd Year   NaN\n",
            "48   STUD049  Student_49    NaN  2nd Year  2.34\n"
          ]
        }
      ]
    },
    {
      "cell_type": "code",
      "source": [
        "print(df.isnull().sum())"
      ],
      "metadata": {
        "colab": {
          "base_uri": "https://localhost:8080/"
        },
        "id": "Q81oXOAz8JQT",
        "outputId": "4165db45-c443-42cf-d465-7cc1c3642833"
      },
      "execution_count": 46,
      "outputs": [
        {
          "output_type": "stream",
          "name": "stdout",
          "text": [
            "StudentID    0\n",
            "Name         0\n",
            "Course       2\n",
            "YearLevel    0\n",
            "GPA          4\n",
            "dtype: int64\n"
          ]
        }
      ]
    },
    {
      "cell_type": "code",
      "source": [
        "df_drop_rows = df.dropna()"
      ],
      "metadata": {
        "id": "911zZvcZ8XJp"
      },
      "execution_count": 47,
      "outputs": []
    },
    {
      "cell_type": "code",
      "source": [
        "print(\"Rows after dropping rows with missing values:\", len(df_drop_rows))\n",
        "print(\"\\n\")"
      ],
      "metadata": {
        "colab": {
          "base_uri": "https://localhost:8080/"
        },
        "id": "Xo2LR2X48dLK",
        "outputId": "d528583f-1070-4922-b4d2-74bcdc9a824e"
      },
      "execution_count": 48,
      "outputs": [
        {
          "output_type": "stream",
          "name": "stdout",
          "text": [
            "Rows after dropping rows with missing values: 44\n",
            "\n",
            "\n"
          ]
        }
      ]
    },
    {
      "cell_type": "code",
      "source": [
        "df[\"GPA\"] = pd.to_numeric(df[\"GPA\"], errors='coerce')"
      ],
      "metadata": {
        "id": "gtaYU7qY8tgT"
      },
      "execution_count": 49,
      "outputs": []
    },
    {
      "cell_type": "code",
      "source": [
        "df[\"GPA\"] = df[\"GPA\"].fillna(df[\"GPA\"].mean())"
      ],
      "metadata": {
        "id": "P0m4oDZV9DuT"
      },
      "execution_count": 50,
      "outputs": []
    },
    {
      "cell_type": "code",
      "source": [
        "df[\"Course\"] = df[\"Course\"].fillna(df[\"Course\"].mode()[0])"
      ],
      "metadata": {
        "id": "ey8YgTJR9GJK"
      },
      "execution_count": 51,
      "outputs": []
    },
    {
      "cell_type": "code",
      "source": [
        "print(df[df.isnull().any(axis=1)])"
      ],
      "metadata": {
        "colab": {
          "base_uri": "https://localhost:8080/"
        },
        "id": "UwkZlfCb9Mt-",
        "outputId": "27c25392-3800-440b-e4e7-b8d7bd7d40c0"
      },
      "execution_count": 52,
      "outputs": [
        {
          "output_type": "stream",
          "name": "stdout",
          "text": [
            "Empty DataFrame\n",
            "Columns: [StudentID, Name, Course, YearLevel, GPA]\n",
            "Index: []\n"
          ]
        }
      ]
    },
    {
      "cell_type": "code",
      "source": [
        "print(df)"
      ],
      "metadata": {
        "colab": {
          "base_uri": "https://localhost:8080/"
        },
        "id": "-Y72rc8w9Sxg",
        "outputId": "60a41420-9fe4-4446-b948-31fa00466db1"
      },
      "execution_count": 53,
      "outputs": [
        {
          "output_type": "stream",
          "name": "stdout",
          "text": [
            "   StudentID        Name Course YearLevel       GPA\n",
            "0    STUD001   Student_1   BSBA  1st Year  2.732222\n",
            "1    STUD002   Student_2   BSBA  3rd Year  2.020000\n",
            "2    STUD003   Student_3    BSN  4th Year  2.990000\n",
            "3    STUD004   Student_4    BSN  2nd Year  2.830000\n",
            "4    STUD005   Student_5    BSN  4th Year  2.310000\n",
            "5    STUD006   Student_6   BSED  4th Year  1.970000\n",
            "6    STUD007   Student_7   BSIT  1st Year  3.360000\n",
            "7    STUD008   Student_8   BSED  1st Year  3.460000\n",
            "8    STUD009   Student_9   BSBA  4th Year  3.990000\n",
            "9    STUD010  Student_10   BSCS  1st Year  1.730000\n",
            "10   STUD011  Student_11   BSBA  3rd Year  1.580000\n",
            "11   STUD012  Student_12   BSBA  2nd Year  1.610000\n",
            "12   STUD013  Student_13   BSBA  2nd Year  1.360000\n",
            "13   STUD014  Student_14  12345  2nd Year  3.350000\n",
            "14   STUD015  Student_15   BSBA  2nd Year  3.760000\n",
            "15   STUD016  Student_16   BSCS  4th Year  3.810000\n",
            "16   STUD017  Student_17   BSED  3rd Year  2.732222\n",
            "17   STUD018  Student_18   BSCS  4th Year  3.800000\n",
            "18   STUD019  Student_19   BSED  4th Year  1.670000\n",
            "19   STUD020  Student_20   BSBA  4th Year  2.940000\n",
            "20   STUD021  Student_21   BSED  2nd Year  2.380000\n",
            "21   STUD022  Student_22   BSBA  2nd Year  2.732222\n",
            "22   STUD023  Student_23   BSED  2nd Year  2.130000\n",
            "23   STUD024  Student_24   BSBA  3rd Year  3.820000\n",
            "24   STUD025  Student_25    BSN  4th Year  3.830000\n",
            "25   STUD026  Student_26   BSCS  3rd Year  1.550000\n",
            "26   STUD027  Student_27    BSN  1st Year  2.230000\n",
            "27   STUD028  Student_28    BSN  1st Year  3.970000\n",
            "28   STUD029  Student_29   BSED  4th Year  3.970000\n",
            "29   STUD030  Student_30   BSIT  2nd Year  2.280000\n",
            "30   STUD031  Student_31   BSCS  1st Year  2.620000\n",
            "31   STUD032  Student_32   BSBA  1st Year  1.440000\n",
            "32   STUD033  Student_33   BSBA  2nd Year  2.710000\n",
            "33   STUD034  Student_34   BSBA  4th Year  1.800000\n",
            "34   STUD035  Student_35    BSN  1st Year  2.490000\n",
            "35   STUD036  Student_36   BSED  1st Year  2.430000\n",
            "36   STUD037  Student_37   BSBA  3rd Year  2.732222\n",
            "37   STUD038  Student_38   BSIT  1st Year  2.100000\n",
            "38   STUD039  Student_39   BSIT  3rd Year  3.170000\n",
            "39   STUD040  Student_40    BSN  1st Year  3.270000\n",
            "40   STUD041  Student_41   BSIT  2nd Year  1.980000\n",
            "41   STUD042  Student_42   BSED  2nd Year  2.732222\n",
            "42   STUD043  Student_43   BSBA  2nd Year  2.350000\n",
            "43   STUD044  Student_44   BSCS  1st Year  3.390000\n",
            "44   STUD045  Student_45   BSBA  1st Year  2.790000\n",
            "45   STUD046  Student_46   BSCS  3rd Year  3.540000\n",
            "46   STUD047  Student_47   BSIT  2nd Year  2.830000\n",
            "47   STUD048  Student_48   BSCS  4th Year  3.880000\n",
            "48   STUD049  Student_49   BSBA  2nd Year  2.340000\n",
            "49   STUD050  Student_50   BSCS  1st Year  3.120000\n"
          ]
        }
      ]
    },
    {
      "cell_type": "code",
      "source": [
        "df.to_csv(\"class_records_cleaned.csv\", index=False)"
      ],
      "metadata": {
        "id": "N4h0lOx99YPF"
      },
      "execution_count": 54,
      "outputs": []
    }
  ]
}