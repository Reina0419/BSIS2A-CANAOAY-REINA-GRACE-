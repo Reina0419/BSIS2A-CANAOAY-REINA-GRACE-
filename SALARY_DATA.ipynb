{
  "nbformat": 4,
  "nbformat_minor": 0,
  "metadata": {
    "colab": {
      "provenance": [],
      "authorship_tag": "ABX9TyNv5OpMX/DykzTwDvBHIHTr",
      "include_colab_link": true
    },
    "kernelspec": {
      "name": "python3",
      "display_name": "Python 3"
    },
    "language_info": {
      "name": "python"
    }
  },
  "cells": [
    {
      "cell_type": "markdown",
      "metadata": {
        "id": "view-in-github",
        "colab_type": "text"
      },
      "source": [
        "<a href=\"https://colab.research.google.com/github/Reina0419/BSIS2A-CANAOAY-REINA-GRACE-/blob/main/SALARY_DATA.ipynb\" target=\"_parent\"><img src=\"https://colab.research.google.com/assets/colab-badge.svg\" alt=\"Open In Colab\"/></a>"
      ]
    },
    {
      "cell_type": "code",
      "execution_count": 1,
      "metadata": {
        "id": "iOVA6PIHLH2O"
      },
      "outputs": [],
      "source": [
        "import pandas as pd"
      ]
    },
    {
      "cell_type": "code",
      "source": [
        "data = {\n",
        "    \"EmployeeID\": [1, 2, 3, 4, 5, 6, 7, 8, 9, 10, 11, 12, 13, 14, 15],\n",
        "    \"Name\": [\"Alice\", \"Bob\", \"Charlie\", \"David\", \"Eva\", \"Frank\", \"Grace\", \"Henry\", \"Ivy\", \"Jack\", \"Karen\", \"Leo\", \"Mona\", \"Nina\", \"Oscar\"],\n",
        "    \"Age\": [45, 52, 37, 28, 41, 53, 32, 25, 48, 39, 29, 44, 33, 51, 36],\n",
        "    \"Department\": [\"HR\", \"IT\", \"Finance\", \"Marketing\", \"Sales\", \"IT\", \"Finance\", \"HR\", \"Sales\", \"Marketing\", \"IT\", \"Finance\", \"HR\", \"Sales\", \"Marketing\"],\n",
        "    \"Salary\": [54000, 78000, 66000, 72000, 85000, 90000, 62000, 40000, 94000, 70000, 65000, 86000, 47000, 88000, 56000]\n",
        "}"
      ],
      "metadata": {
        "id": "nRsBuObfL78T"
      },
      "execution_count": 2,
      "outputs": []
    },
    {
      "cell_type": "code",
      "source": [
        "df = pd.DataFrame(data)"
      ],
      "metadata": {
        "id": "exAqjP1RMBdp"
      },
      "execution_count": 3,
      "outputs": []
    },
    {
      "cell_type": "code",
      "source": [
        "print(df)"
      ],
      "metadata": {
        "colab": {
          "base_uri": "https://localhost:8080/"
        },
        "id": "eOXlGCJdMKJc",
        "outputId": "90a6cf25-3262-4a90-e138-f74fce1e9ab3"
      },
      "execution_count": 4,
      "outputs": [
        {
          "output_type": "stream",
          "name": "stdout",
          "text": [
            "    EmployeeID     Name  Age Department  Salary\n",
            "0            1    Alice   45         HR   54000\n",
            "1            2      Bob   52         IT   78000\n",
            "2            3  Charlie   37    Finance   66000\n",
            "3            4    David   28  Marketing   72000\n",
            "4            5      Eva   41      Sales   85000\n",
            "5            6    Frank   53         IT   90000\n",
            "6            7    Grace   32    Finance   62000\n",
            "7            8    Henry   25         HR   40000\n",
            "8            9      Ivy   48      Sales   94000\n",
            "9           10     Jack   39  Marketing   70000\n",
            "10          11    Karen   29         IT   65000\n",
            "11          12      Leo   44    Finance   86000\n",
            "12          13     Mona   33         HR   47000\n",
            "13          14     Nina   51      Sales   88000\n",
            "14          15    Oscar   36  Marketing   56000\n"
          ]
        }
      ]
    },
    {
      "cell_type": "code",
      "source": [
        "mean_salary = df[\"Salary\"].mean()"
      ],
      "metadata": {
        "id": "aOS7sFA3MR90"
      },
      "execution_count": 14,
      "outputs": []
    },
    {
      "cell_type": "code",
      "source": [
        "median_salary = df[\"Salary\"].median()"
      ],
      "metadata": {
        "id": "O5HoMDk-Mgc_"
      },
      "execution_count": 15,
      "outputs": []
    },
    {
      "cell_type": "code",
      "source": [
        "std_dev_salary = df[\"Salary\"].std()"
      ],
      "metadata": {
        "id": "36E5mJDiMljC"
      },
      "execution_count": 16,
      "outputs": []
    },
    {
      "cell_type": "code",
      "source": [
        "total_salary_expenditure = df[\"Salary\"].sum()"
      ],
      "metadata": {
        "id": "cZsBzddvMttI"
      },
      "execution_count": 17,
      "outputs": []
    },
    {
      "cell_type": "code",
      "source": [
        "print(\"Basic Statistics:\")\n",
        "print(f\"Mean Salary: ${mean_salary:.2f}\")\n",
        "print(f\"Median Salary: ${median_salary:.2f}\")\n",
        "print(f\"Standard Deviation of Salaries: ${std_dev_salary:.2f}\")\n",
        "print(f\"Total Salary Expenditure: ${total_salary_expenditure:.2f}\")"
      ],
      "metadata": {
        "colab": {
          "base_uri": "https://localhost:8080/"
        },
        "id": "xbSfii-gOdO-",
        "outputId": "6a51d958-86be-4aed-fcfa-5c95c7d9f460"
      },
      "execution_count": 18,
      "outputs": [
        {
          "output_type": "stream",
          "name": "stdout",
          "text": [
            "Basic Statistics:\n",
            "Mean Salary: $70200.00\n",
            "Median Salary: $70000.00\n",
            "Standard Deviation of Salaries: $16549.49\n",
            "Total Salary Expenditure: $1053000.00\n"
          ]
        }
      ]
    },
    {
      "cell_type": "code",
      "source": [
        "df.to_csv(\"SALARY_DATA.csv\", index=False)"
      ],
      "metadata": {
        "id": "RQ2VU6q4PXBF"
      },
      "execution_count": 19,
      "outputs": []
    }
  ]
}