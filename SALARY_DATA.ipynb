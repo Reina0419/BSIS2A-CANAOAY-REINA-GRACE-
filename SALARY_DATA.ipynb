{
  "nbformat": 4,
  "nbformat_minor": 0,
  "metadata": {
    "colab": {
      "provenance": [],
      "authorship_tag": "ABX9TyNJ+QhZ9Q+N+RC0+AEIvJrq",
      "include_colab_link": true
    },
    "kernelspec": {
      "name": "python3",
      "display_name": "Python 3"
    },
    "language_info": {
      "name": "python"
    }
  },
  "cells": [
    {
      "cell_type": "markdown",
      "metadata": {
        "id": "view-in-github",
        "colab_type": "text"
      },
      "source": [
        "<a href=\"https://colab.research.google.com/github/Reina0419/BSIS2A-CANAOAY-REINA-GRACE-/blob/main/SALARY_DATA.ipynb\" target=\"_parent\"><img src=\"https://colab.research.google.com/assets/colab-badge.svg\" alt=\"Open In Colab\"/></a>"
      ]
    },
    {
      "cell_type": "code",
      "execution_count": 9,
      "metadata": {
        "id": "8b03k9uI0fpc"
      },
      "outputs": [],
      "source": [
        "import pandas as pd\n",
        "import numpy as np"
      ]
    },
    {
      "cell_type": "code",
      "source": [
        "df = pd.read_csv('https://raw.githubusercontent.com/Reina0419/BSIS2A-CANAOAY-REINA-GRACE-/main/SALARY_DATA.csv')"
      ],
      "metadata": {
        "id": "i3SUTR1B0mTM"
      },
      "execution_count": 10,
      "outputs": []
    },
    {
      "cell_type": "code",
      "source": [
        "print(df)"
      ],
      "metadata": {
        "colab": {
          "base_uri": "https://localhost:8080/"
        },
        "id": "vz96g12i3i8i",
        "outputId": "3233344f-093b-475c-c661-95b2459941f5"
      },
      "execution_count": 11,
      "outputs": [
        {
          "output_type": "stream",
          "name": "stdout",
          "text": [
            "    Employee ID     Name  Age Department  Salary\n",
            "0             1    Alice   45         HR   54000\n",
            "1             2      Bob   52         IT   78000\n",
            "2             3  Charlie   37    Finance   66000\n",
            "3             4    David   28  Marketing   72000\n",
            "4             5      Eva   41      Sales   85000\n",
            "5             6    Frank   53         IT   90000\n",
            "6             7    Grace   32    Finance   62000\n",
            "7             8    Henry   25         HR   40000\n",
            "8             9      Ivy   48      Sales   94000\n",
            "9            10     Jack   39  Marketing   70000\n",
            "10           11    Karen   29         IT   65000\n",
            "11           12      Leo   44    Finance   86000\n",
            "12           13     Mona   33         HR   47000\n",
            "13           14     Nina   51      Sales   88000\n",
            "14           15    Oscar   36  Marketing   56000\n"
          ]
        }
      ]
    },
    {
      "cell_type": "code",
      "source": [
        "mean_salary = df[\"Salary\"].mean()"
      ],
      "metadata": {
        "id": "YCa3zVYE4LoN"
      },
      "execution_count": 12,
      "outputs": []
    },
    {
      "cell_type": "code",
      "source": [
        "print(mean_salary)"
      ],
      "metadata": {
        "colab": {
          "base_uri": "https://localhost:8080/"
        },
        "id": "tnzZzisg4kIv",
        "outputId": "7bf76abf-9817-43c7-9698-8061e77ac04f"
      },
      "execution_count": 13,
      "outputs": [
        {
          "output_type": "stream",
          "name": "stdout",
          "text": [
            "70200.0\n"
          ]
        }
      ]
    },
    {
      "cell_type": "code",
      "source": [
        "median_salary = df[\"Salary\"].median()"
      ],
      "metadata": {
        "id": "DLdxECtP4qlS"
      },
      "execution_count": 14,
      "outputs": []
    },
    {
      "cell_type": "code",
      "source": [
        "print(median_salary)"
      ],
      "metadata": {
        "colab": {
          "base_uri": "https://localhost:8080/"
        },
        "id": "hGtCI7R85Cuo",
        "outputId": "ee0027bb-6d73-4b67-d587-d4599b0e5adc"
      },
      "execution_count": 15,
      "outputs": [
        {
          "output_type": "stream",
          "name": "stdout",
          "text": [
            "70000.0\n"
          ]
        }
      ]
    },
    {
      "cell_type": "code",
      "source": [
        "std_dev_salary = df[\"Salary\"].std()"
      ],
      "metadata": {
        "id": "sMxxoHbc5HMt"
      },
      "execution_count": 16,
      "outputs": []
    },
    {
      "cell_type": "code",
      "source": [
        "print(std_dev_salary)"
      ],
      "metadata": {
        "colab": {
          "base_uri": "https://localhost:8080/"
        },
        "id": "E7_-Qd8s5JoS",
        "outputId": "986c6fb4-4592-4248-d234-d99836ba1601"
      },
      "execution_count": 17,
      "outputs": [
        {
          "output_type": "stream",
          "name": "stdout",
          "text": [
            "16549.4928709527\n"
          ]
        }
      ]
    },
    {
      "cell_type": "code",
      "source": [
        "total_salary_expenditure = df[\"Salary\"].sum()"
      ],
      "metadata": {
        "id": "US0S7peL5QWQ"
      },
      "execution_count": 18,
      "outputs": []
    },
    {
      "cell_type": "code",
      "source": [
        "print(total_salary_expenditure)"
      ],
      "metadata": {
        "colab": {
          "base_uri": "https://localhost:8080/"
        },
        "id": "jm1mFo1F5TBp",
        "outputId": "00981bdd-ff4d-4c70-be9d-da14933a0227"
      },
      "execution_count": 19,
      "outputs": [
        {
          "output_type": "stream",
          "name": "stdout",
          "text": [
            "1053000\n"
          ]
        }
      ]
    }
  ]
}